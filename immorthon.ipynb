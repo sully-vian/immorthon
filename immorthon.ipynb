{
  "cells": [
    {
      "cell_type": "markdown",
      "metadata": {
        "id": "IS8cfOdawMjH"
      },
      "source": [
        "# Immorthon"
      ]
    },
    {
      "cell_type": "code",
      "execution_count": 1,
      "metadata": {
        "colab": {
          "base_uri": "https://localhost:8080/"
        },
        "id": "zQWoUrk0t4ph",
        "outputId": "d0e783f7-d0bd-467c-a52d-d14c633a8ccb"
      },
      "outputs": [
        {
          "name": "stdout",
          "output_type": "stream",
          "text": [
            "Collecting kagglehub[pandas-datasets]\n",
            "  Downloading kagglehub-0.3.10-py3-none-any.whl.metadata (31 kB)\n",
            "Requirement already satisfied: packaging in /home/sully_vian/py3/lib/python3.13/site-packages (from kagglehub[pandas-datasets]) (24.2)\n",
            "Requirement already satisfied: pyyaml in /home/sully_vian/py3/lib/python3.13/site-packages (from kagglehub[pandas-datasets]) (6.0.2)\n",
            "Requirement already satisfied: requests in /home/sully_vian/py3/lib/python3.13/site-packages (from kagglehub[pandas-datasets]) (2.32.3)\n",
            "Collecting tqdm (from kagglehub[pandas-datasets])\n",
            "  Downloading tqdm-4.67.1-py3-none-any.whl.metadata (57 kB)\n",
            "Collecting pandas (from kagglehub[pandas-datasets])\n",
            "  Downloading pandas-2.2.3-cp313-cp313-manylinux_2_17_x86_64.manylinux2014_x86_64.whl.metadata (89 kB)\n",
            "Requirement already satisfied: numpy>=1.26.0 in /home/sully_vian/py3/lib/python3.13/site-packages (from pandas->kagglehub[pandas-datasets]) (2.2.3)\n",
            "Requirement already satisfied: python-dateutil>=2.8.2 in /home/sully_vian/py3/lib/python3.13/site-packages (from pandas->kagglehub[pandas-datasets]) (2.9.0.post0)\n",
            "Collecting pytz>=2020.1 (from pandas->kagglehub[pandas-datasets])\n",
            "  Downloading pytz-2025.2-py2.py3-none-any.whl.metadata (22 kB)\n",
            "Collecting tzdata>=2022.7 (from pandas->kagglehub[pandas-datasets])\n",
            "  Downloading tzdata-2025.2-py2.py3-none-any.whl.metadata (1.4 kB)\n",
            "Requirement already satisfied: charset-normalizer<4,>=2 in /home/sully_vian/py3/lib/python3.13/site-packages (from requests->kagglehub[pandas-datasets]) (3.4.1)\n",
            "Requirement already satisfied: idna<4,>=2.5 in /home/sully_vian/py3/lib/python3.13/site-packages (from requests->kagglehub[pandas-datasets]) (3.10)\n",
            "Requirement already satisfied: urllib3<3,>=1.21.1 in /home/sully_vian/py3/lib/python3.13/site-packages (from requests->kagglehub[pandas-datasets]) (2.3.0)\n",
            "Requirement already satisfied: certifi>=2017.4.17 in /home/sully_vian/py3/lib/python3.13/site-packages (from requests->kagglehub[pandas-datasets]) (2025.1.31)\n",
            "Requirement already satisfied: six>=1.5 in /home/sully_vian/py3/lib/python3.13/site-packages (from python-dateutil>=2.8.2->pandas->kagglehub[pandas-datasets]) (1.17.0)\n",
            "Downloading kagglehub-0.3.10-py3-none-any.whl (63 kB)\n",
            "Downloading pandas-2.2.3-cp313-cp313-manylinux_2_17_x86_64.manylinux2014_x86_64.whl (12.7 MB)\n",
            "\u001b[2K   \u001b[38;2;114;156;31m━━━━━━━━━━━━━━━━━━━━━━━━━━━━━━━━━━━━━━━━\u001b[0m \u001b[32m12.7/12.7 MB\u001b[0m \u001b[31m1.2 MB/s\u001b[0m eta \u001b[36m0:00:00\u001b[0m[31m1.2 MB/s\u001b[0m eta \u001b[36m0:00:01\u001b[0mm\n",
            "\u001b[?25hDownloading tqdm-4.67.1-py3-none-any.whl (78 kB)\n",
            "Downloading pytz-2025.2-py2.py3-none-any.whl (509 kB)\n",
            "Downloading tzdata-2025.2-py2.py3-none-any.whl (347 kB)\n",
            "Installing collected packages: pytz, tzdata, tqdm, pandas, kagglehub\n",
            "Successfully installed kagglehub-0.3.10 pandas-2.2.3 pytz-2025.2 tqdm-4.67.1 tzdata-2025.2\n"
          ]
        }
      ],
      "source": [
        "# install kagglehub\n",
        "!pip install kagglehub[pandas-datasets]\n",
        "\n",
        "# imports\n",
        "import kagglehub\n",
        "from kagglehub import KaggleDatasetAdapter\n",
        "\n",
        "import pandas as pd\n",
        "pd.set_option('display.max_colwidth', None)"
      ]
    },
    {
      "cell_type": "code",
      "execution_count": 2,
      "metadata": {
        "colab": {
          "base_uri": "https://localhost:8080/"
        },
        "id": "gotTIT3KuNGw",
        "outputId": "fa4b0824-13d7-4205-d0fc-79acaa6a2cba"
      },
      "outputs": [
        {
          "name": "stdout",
          "output_type": "stream",
          "text": [
            "Downloading from https://www.kaggle.com/api/v1/datasets/download/kartmaan/dictionnaire-francais?dataset_version_number=1&file_name=dico.csv...\n"
          ]
        },
        {
          "name": "stderr",
          "output_type": "stream",
          "text": [
            "100%|██████████| 11.2M/11.2M [00:18<00:00, 626kB/s] "
          ]
        },
        {
          "name": "stdout",
          "output_type": "stream",
          "text": [
            "Extracting zip of dico.csv...\n"
          ]
        },
        {
          "name": "stderr",
          "output_type": "stream",
          "text": [
            "\n"
          ]
        },
        {
          "name": "stdout",
          "output_type": "stream",
          "text": [
            "dataset saved at /content/sample_data/dico.csv\n"
          ]
        }
      ],
      "source": [
        "dataSetName = \"kartmaan/dictionnaire-francais\"\n",
        "filePath = \"dico.csv\"\n",
        "\n",
        "df = kagglehub.dataset_load(\n",
        "    adapter=KaggleDatasetAdapter.PANDAS,\n",
        "    handle=dataSetName,\n",
        "    path=filePath,\n",
        ")\n",
        "\n",
        "print(\"dataset saved at /content/sample_data/dico.csv\")"
      ]
    },
    {
      "cell_type": "code",
      "execution_count": null,
      "metadata": {
        "colab": {
          "base_uri": "https://localhost:8080/",
          "height": 398
        },
        "id": "cNFf0saZvrhR",
        "outputId": "fadcc165-f73a-45de-89ef-21e5e4973ca8"
      },
      "outputs": [
        {
          "name": "stdout",
          "output_type": "stream",
          "text": [
            "Index(['Mot', 'Définitions'], dtype='object')\n",
            "           Mot  \\\n",
            "17891   Python   \n",
            "470975  Python   \n",
            "\n",
            "                                                                                                                                                                                                   Définitions  \n",
            "17891   ['Genre de serpents, les plus grands des ophidiens, ainsi nommés par allusion au Python de la fable, serpent monstrueux qui fut tué par Apollon près de Delphes.', 'Langage informatique interprété.']  \n",
            "470975                                                                          ['Animal monstrueux de Delphes dans la mythologie grecque.', 'Langage de programmation inventé par Guido van Rossum en 1990.']  \n"
          ]
        }
      ],
      "source": [
        "# print column names\n",
        "print(df.columns)\n",
        "\n",
        "# get df[Mot=\"car\"][\"Définitions\"]\n",
        "foo = df[df[\"Mot\"] == \"Toulouse\"][\"Définitions\"]\n",
        "\n",
        "# print a short description of the dataset\n",
        "print(df[df[\"Mot\"] == \"Python\"])"
      ]
    }
  ],
  "metadata": {
    "colab": {
      "provenance": []
    },
    "kernelspec": {
      "display_name": "py3",
      "language": "python",
      "name": "python3"
    },
    "language_info": {
      "codemirror_mode": {
        "name": "ipython",
        "version": 3
      },
      "file_extension": ".py",
      "mimetype": "text/x-python",
      "name": "python",
      "nbconvert_exporter": "python",
      "pygments_lexer": "ipython3",
      "version": "3.13.2"
    }
  },
  "nbformat": 4,
  "nbformat_minor": 0
}
